{
 "cells": [
  {
   "cell_type": "markdown",
   "metadata": {},
   "source": [
    "# Lecture 2 - Introduction to SparkSQL  in pyspark"
   ]
  },
  {
   "cell_type": "markdown",
   "metadata": {},
   "source": [
    "First, start your spark kernel in a jupyter notebook. This will differ depending on whether you are on your local laptop, or the CS resources. Google for setting up your Jupyter notebook with spark - it is a matter of setting a few options. We will use both local laptop and CS resources interchangably. \n",
    "\n",
    "Executing any command in a new notebook with start the spark session. It used to be in Spark 1.x that there were two main classes called SparkContext and SQLContext, dealing with the session-related stuff. You could only create one per application. Later on, it was found to be limitting, so a new class was introduced - SparkSession. "
   ]
  },
  {
   "cell_type": "code",
   "execution_count": 1,
   "metadata": {},
   "outputs": [
    {
     "name": "stdout",
     "output_type": "stream",
     "text": [
      "Starting Spark application\n"
     ]
    },
    {
     "data": {
      "text/html": [
       "<table>\n",
       "<tr><th>ID</th><th>YARN Application ID</th><th>Kind</th><th>State</th><th>Spark UI</th><th>Driver log</th><th>Current session?</th></tr><tr><td>110</td><td>application_1536701919660_0039</td><td>pyspark</td><td>idle</td><td><a target=\"_blank\" href=\"http://data-services3.cs.rutgers.edu:8088/proxy/application_1536701919660_0039/\">Link</a></td><td><a target=\"_blank\" href=\"http://data2.cs.rutgers.edu:8042/node/containerlogs/container_e49_1536701919660_0039_01_000001/kp807\">Link</a></td><td>✔</td></tr></table>"
      ],
      "text/plain": [
       "<IPython.core.display.HTML object>"
      ]
     },
     "metadata": {},
     "output_type": "display_data"
    },
    {
     "name": "stdout",
     "output_type": "stream",
     "text": [
      "SparkSession available as 'spark'.\n",
      "4"
     ]
    }
   ],
   "source": [
    "2+2"
   ]
  },
  {
   "cell_type": "code",
   "execution_count": 5,
   "metadata": {},
   "outputs": [
    {
     "name": "stdout",
     "output_type": "stream",
     "text": [
      "2.2.0.2.6.3.0-235"
     ]
    }
   ],
   "source": [
    "dir(spark)  # get methods for spark\n",
    "sc = spark.sparkContext\n",
    "print(spark.version)"
   ]
  },
  {
   "cell_type": "code",
   "execution_count": 4,
   "metadata": {},
   "outputs": [
    {
     "name": "stdout",
     "output_type": "stream",
     "text": [
      "['PACKAGE_EXTENSIONS', '__class__', '__delattr__', '__dict__', '__dir__', '__doc__', '__enter__', '__eq__', '__exit__', '__format__', '__ge__', '__getattribute__', '__getnewargs__', '__gt__', '__hash__', '__init__', '__init_subclass__', '__le__', '__lt__', '__module__', '__ne__', '__new__', '__reduce__', '__reduce_ex__', '__repr__', '__setattr__', '__sizeof__', '__str__', '__subclasshook__', '__weakref__', '_accumulatorServer', '_active_spark_context', '_batchSize', '_callsite', '_checkpointFile', '_conf', '_dictToJavaMap', '_do_init', '_ensure_initialized', '_gateway', '_getJavaStorageLevel', '_initialize_context', '_javaAccumulator', '_jsc', '_jvm', '_lock', '_next_accum_id', '_pickled_broadcast_vars', '_python_includes', '_repr_html_', '_temp_dir', '_unbatched_serializer', 'accumulator', 'addFile', 'addPyFile', 'appName', 'applicationId', 'binaryFiles', 'binaryRecords', 'broadcast', 'cancelAllJobs', 'cancelJobGroup', 'defaultMinPartitions', 'defaultParallelism', 'dump_profiles', 'emptyRDD', 'environment', 'getConf', 'getLocalProperty', 'getOrCreate', 'hadoopFile', 'hadoopRDD', 'master', 'newAPIHadoopFile', 'newAPIHadoopRDD', 'parallelize', 'pickleFile', 'profiler_collector', 'pythonExec', 'pythonVer', 'range', 'runJob', 'sequenceFile', 'serializer', 'setCheckpointDir', 'setJobGroup', 'setLocalProperty', 'setLogLevel', 'setSystemProperty', 'show_profiles', 'sparkHome', 'sparkUser', 'startTime', 'statusTracker', 'stop', 'textFile', 'uiWebUrl', 'union', 'version', 'wholeTextFiles']"
     ]
    }
   ],
   "source": [
    "dir(sc)"
   ]
  },
  {
   "cell_type": "markdown",
   "metadata": {},
   "source": [
    "## RDD's"
   ]
  },
  {
   "cell_type": "code",
   "execution_count": null,
   "metadata": {},
   "outputs": [],
   "source": [
    "rdd = sc.parallelize([1,2,3,4])   # create RDD from a list\n",
    "rdd.collect()\n",
    "mylist = range(0, 10**8)          # a lot of elements\n",
    "rddlarge = sc.parallelize(mylist)"
   ]
  },
  {
   "cell_type": "code",
   "execution_count": null,
   "metadata": {},
   "outputs": [],
   "source": [
    "from operator import add\n",
    "\n",
    "import time\n",
    "\n",
    "## elapsed time \n",
    "st = time.clock()   #time in seconds\n",
    "rddlarge.map(lambda x: x*x).reduce(add)\n",
    "et = time.clock()\n",
    "print( \"elapsed time is {} seconds\".format(et - st))  # elapsed time\n",
    "\n",
    "from functools import reduce\n",
    "st = time.clock()\n",
    "reduce( add, map(lambda x: x*x, mylist))\n",
    "et = time.clock()\n",
    "print( \"elapsed time is {} seconds\".format(et - st))  # elapsed time\n"
   ]
  },
  {
   "cell_type": "code",
   "execution_count": null,
   "metadata": {},
   "outputs": [],
   "source": [
    "### filter examples: \n",
    "rddlarge.filter( lambda x: x % 1000 == 0).take(10)\n",
    "filter(lambda x: x % 100000 == 0, mylist)  #not what you expect... \n"
   ]
  },
  {
   "cell_type": "code",
   "execution_count": null,
   "metadata": {},
   "outputs": [],
   "source": [
    "############### text file - transformations and actions\n",
    "rddtext = sc.textFile(\"/home/kris/datasets/text/jane_austen.txt\")\n",
    "\n",
    "rddwords = rddtext.map(lambda ll: ll.split(\" \"))\n",
    "for i in rddwords.take(10):\n",
    "   print(i)\n",
    "\n",
    "rddwords2 = rddwords.flatMap(lambda x: x)\n",
    "for i in rddwords2.take(10):\n",
    "   print(i)\n",
    "\n"
   ]
  },
  {
   "cell_type": "markdown",
   "metadata": {},
   "source": [
    "# DataFrames"
   ]
  },
  {
   "cell_type": "code",
   "execution_count": null,
   "metadata": {},
   "outputs": [],
   "source": [
    "############### make a dataframe\n",
    "bb = spark.createDataFrame(data=[(1,2, 'this', 10.0), (3,4, 'Is', 3.14)], schema=(\"A\", \"B\", \"word\", \"somedouble\"))  ## from some \n",
    "bb.withColumn(\"E\", bb.A + bb.B).show()\n",
    "bb.filter(bb.word == \"Is\" ).show()\n",
    "bb[bb.word.startswith(\"I\")]\n",
    "\n",
    "from pyspark.sql.functions import col\n",
    "bb.filter(col('word').startswith(\"I\")).show()\n",
    "bb.filter(bb.word.startswith(\"I\")).show()\n"
   ]
  },
  {
   "cell_type": "code",
   "execution_count": null,
   "metadata": {},
   "outputs": [],
   "source": [
    "############### to read a dataframe\n",
    "localfilename = \"/home/kris/datasets/small/iris.csv\"\n",
    "filename = \"/home/kp807/iris.csv\"\n",
    "hdfsfilename = \"/user/kp807/smalldata/iris.csv\"\n",
    "\n",
    "df = spark.read.option(\"header\", \"true\").option(\"inferSchema\", \"true\").csv(filename)\n",
    "df.cache()\n",
    "df.count()\n",
    "# now look at the Storage tab in the Spark UI\n",
    "\n"
   ]
  },
  {
   "cell_type": "code",
   "execution_count": null,
   "metadata": {},
   "outputs": [],
   "source": [
    "df.show()\n",
    "\n",
    "df.printSchema()"
   ]
  },
  {
   "cell_type": "code",
   "execution_count": 15,
   "metadata": {},
   "outputs": [],
   "source": [
    "df.registerTempTable(\"mydf\")\n",
    "df1 = sqlContext.sql(\"SELECT SUM(sepal_length) FROM mydf\")\n",
    "#sql(\"SELECT SUM(sepal_length) AS sum_sep_len FROM mydf\").show()\n",
    "#df.schema\n",
    "#df.printSchema()\n",
    "############### to use a dataframe in SQL statements: \n",
    "df.registerTempTable(\"iris\")\n",
    "spark.sql(\"select avg(petal_length) AS avg_petal_length from iris\").show()\n"
   ]
  },
  {
   "cell_type": "code",
   "execution_count": 25,
   "metadata": {},
   "outputs": [
    {
     "name": "stdout",
     "output_type": "stream",
     "text": [
      "+---------------+--------+\n",
      "|        species|count(1)|\n",
      "+---------------+--------+\n",
      "| Iris-virginica|      50|\n",
      "|    Iris-setosa|      50|\n",
      "|Iris-versicolor|      50|\n",
      "+---------------+--------+"
     ]
    }
   ],
   "source": [
    "df.registerTempTable(\"iris\")\n",
    "spark.sql(\"SELECT species, count(1) from iris GROUP BY species\").show()"
   ]
  },
  {
   "cell_type": "code",
   "execution_count": 29,
   "metadata": {},
   "outputs": [
    {
     "name": "stdout",
     "output_type": "stream",
     "text": [
      "+------------+-----------+------------+-----------+-----------+\n",
      "|sepal_length|sepal_width|petal_length|petal_width|species    |\n",
      "+------------+-----------+------------+-----------+-----------+\n",
      "|5.1         |3.5        |1.4         |0.2        |Iris-setosa|\n",
      "|4.9         |3.0        |1.4         |0.2        |Iris-setosa|\n",
      "|4.7         |3.2        |1.3         |0.2        |Iris-setosa|\n",
      "+------------+-----------+------------+-----------+-----------+\n",
      "only showing top 3 rows"
     ]
    }
   ],
   "source": [
    "df.createOrReplaceTempView(\"iris\")\n",
    "sqlDF = spark.sql(\"SELECT * FROM iris\")\n",
    "sqlDF.show(3, False)\n"
   ]
  },
  {
   "cell_type": "markdown",
   "metadata": {},
   "source": [
    "# UDF functions"
   ]
  },
  {
   "cell_type": "code",
   "execution_count": null,
   "metadata": {},
   "outputs": [],
   "source": [
    "##############  UDF functions\n",
    "from pyspark.sql.functions import udf\n",
    "from pyspark.sql.types import StringType\n",
    "spsuff = udf(lambda s: s.split(\"-\")[1], StringType())   #Iris-setosa --> setosa\n",
    "df.select(spsuff(\"species\").alias(\"species2\")).show()\n",
    "df.withColumn(spsuff(\"species\").alias(\"species2\")).show()\n",
    "\n",
    "sqlContext.registerFunction(\"species_suffix\", slen)\n",
    "df.selectExpr(\"*\", \"species_suffix(species AS species2\")).show()\n",
    "\n",
    "                                                           "
   ]
  },
  {
   "cell_type": "markdown",
   "metadata": {},
   "source": [
    "# SQL analogues"
   ]
  },
  {
   "cell_type": "code",
   "execution_count": null,
   "metadata": {},
   "outputs": [],
   "source": [
    "### entire group by statement: \n",
    "df.select(\"petal_length\", \"species\").filter(\"petal_length>3\").groupBy(\"species\").count().sort(\"count\", ascending=False).show()\n",
    "df.filter(\"petal_length>3\").groupBy(\"species\").mean().show()\n"
   ]
  },
  {
   "cell_type": "markdown",
   "metadata": {},
   "source": [
    "# Joins"
   ]
  },
  {
   "cell_type": "code",
   "execution_count": null,
   "metadata": {},
   "outputs": [],
   "source": [
    "valuesA = [('Alice',25),('Bob',32),('Charlie',34),('Dave',24)]\n",
    "dfage = spark.createDataFrame(valuesA,['name','age']).cache()\n",
    "valuesB = [('Alice',\"Research\"),('Bob',\"Sales\"),('Charlie',\"Sales\"),('Evan',\"Marketing\")]\n",
    "dfdept = spark.createDataFrame(valuesB,['name','dept']).cache()\n",
    "\n",
    "dfage.join(dfdept).show()\n",
    "dfage.join(dfdept, \"name\").show()\n",
    "dfage.join(dfdept, \"name\", how = \"left\").show()\n",
    "dfage.join(dfdept, \"name\", how = \"right\").show()\n",
    "dfage.join(dfdept, \"name\", how = \"outer\").show()\n",
    "\n",
    "dfage.withColumnRenamed(\"name\", \"name2\").join(dfdept, col(\"name\") == col(\"name2\")).show()\n",
    "\n"
   ]
  },
  {
   "cell_type": "markdown",
   "metadata": {},
   "source": [
    "# Other formats"
   ]
  },
  {
   "cell_type": "code",
   "execution_count": 8,
   "metadata": {},
   "outputs": [
    {
     "name": "stderr",
     "output_type": "stream",
     "text": [
      "name 'df' is not defined\n",
      "Traceback (most recent call last):\n",
      "NameError: name 'df' is not defined\n",
      "\n"
     ]
    }
   ],
   "source": [
    "df.write.json(DIR+\"iris.json\")\n",
    "dftemp = spark.read.json(DIR+\"iris.json\")\n",
    "dftemp.show()"
   ]
  },
  {
   "cell_type": "code",
   "execution_count": null,
   "metadata": {},
   "outputs": [],
   "source": [
    "df.write.parquet(DIR+\"iris.parquet\")\n",
    "dftemp = spark.read.parquet(DIR+\"iris.parquet\")\n",
    "dftemp.show()\n"
   ]
  },
  {
   "cell_type": "markdown",
   "metadata": {},
   "source": [
    "# Some bugs"
   ]
  },
  {
   "cell_type": "code",
   "execution_count": 6,
   "metadata": {},
   "outputs": [
    {
     "name": "stderr",
     "output_type": "stream",
     "text": [
      "name 'rdd' is not defined\n",
      "Traceback (most recent call last):\n",
      "NameError: name 'rdd' is not defined\n",
      "\n"
     ]
    }
   ],
   "source": [
    "############### some bugs\n",
    "\n",
    "rdd.toDF().show()    #fails \n",
    "rdd.zipWithIndex().toDF().show()\n"
   ]
  },
  {
   "cell_type": "markdown",
   "metadata": {},
   "source": [
    "# Practice time!"
   ]
  },
  {
   "cell_type": "code",
   "execution_count": 7,
   "metadata": {},
   "outputs": [
    {
     "name": "stderr",
     "output_type": "stream",
     "text": [
      "'Path does not exist: hdfs://data-services2.cs.rutgers.edu:8020/user/kp807/filename;'\n",
      "Traceback (most recent call last):\n",
      "  File \"/hadoop/yarn/local/usercache/kp807/appcache/application_1536701919660_0039/container_e49_1536701919660_0039_01_000001/pyspark.zip/pyspark/sql/readwriter.py\", line 410, in csv\n",
      "    return self._df(self._jreader.csv(self._spark._sc._jvm.PythonUtils.toSeq(path)))\n",
      "  File \"/hadoop/yarn/local/usercache/kp807/appcache/application_1536701919660_0039/container_e49_1536701919660_0039_01_000001/py4j-0.10.4-src.zip/py4j/java_gateway.py\", line 1133, in __call__\n",
      "    answer, self.gateway_client, self.target_id, self.name)\n",
      "  File \"/hadoop/yarn/local/usercache/kp807/appcache/application_1536701919660_0039/container_e49_1536701919660_0039_01_000001/pyspark.zip/pyspark/sql/utils.py\", line 69, in deco\n",
      "    raise AnalysisException(s.split(': ', 1)[1], stackTrace)\n",
      "pyspark.sql.utils.AnalysisException: 'Path does not exist: hdfs://data-services2.cs.rutgers.edu:8020/user/kp807/filename;'\n",
      "\n"
     ]
    }
   ],
   "source": [
    "filename = \"churn.csv\"\n",
    "df2 = spark.read.option(\"header\", \"true\").option(\"inferSchema\", \"true\").csv(filename)\n",
    "df2.cache()\n",
    "df2.count()\n"
   ]
  },
  {
   "cell_type": "markdown",
   "metadata": {},
   "source": [
    "## Your turn to experiment"
   ]
  },
  {
   "cell_type": "markdown",
   "metadata": {},
   "source": [
    "- save as parquet - and inspect the files\n",
    "- try repartitioning and observe what happens\n",
    "- save as table\n",
    "- find a way to do a Cartesian product (usually that's an antipattern)\n",
    "- parse dates - read on DateTypes\n",
    "- make a new column with dates 30 days back\n",
    "- experiment with 5 new column functions \n",
    "- make a list of all differences that you see between pandas and pyspark dataframes"
   ]
  },
  {
   "cell_type": "code",
   "execution_count": null,
   "metadata": {},
   "outputs": [],
   "source": []
  }
 ],
 "metadata": {
  "kernelspec": {
   "display_name": "PySpark",
   "language": "",
   "name": "pysparkkernel"
  },
  "language_info": {
   "codemirror_mode": {
    "name": "python",
    "version": 2
   },
   "mimetype": "text/x-python",
   "name": "pyspark",
   "pygments_lexer": "python2"
  }
 },
 "nbformat": 4,
 "nbformat_minor": 2
}
